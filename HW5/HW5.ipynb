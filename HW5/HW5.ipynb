{
  "nbformat": 4,
  "nbformat_minor": 0,
  "metadata": {
    "colab": {
      "provenance": [],
      "authorship_tag": "ABX9TyMrzEgQHq3ySsaRz6B73WQU",
      "include_colab_link": true
    },
    "kernelspec": {
      "name": "python3",
      "display_name": "Python 3"
    },
    "language_info": {
      "name": "python"
    }
  },
  "cells": [
    {
      "cell_type": "markdown",
      "metadata": {
        "id": "view-in-github",
        "colab_type": "text"
      },
      "source": [
        "<a href=\"https://colab.research.google.com/github/bama730/CS_4410/blob/main/HW5/HW5.ipynb\" target=\"_parent\"><img src=\"https://colab.research.google.com/assets/colab-badge.svg\" alt=\"Open In Colab\"/></a>"
      ]
    },
    {
      "cell_type": "markdown",
      "source": [
        "The below section is for part 1 of Homework 5"
      ],
      "metadata": {
        "id": "wOc-78SvDQlT"
      }
    },
    {
      "cell_type": "code",
      "execution_count": 1,
      "metadata": {
        "colab": {
          "base_uri": "https://localhost:8080/",
          "height": 472
        },
        "id": "ULOAGhMqA0nN",
        "outputId": "d096b808-ae02-4a5f-b998-126d37322dd6"
      },
      "outputs": [
        {
          "output_type": "display_data",
          "data": {
            "text/plain": [
              "<Figure size 640x480 with 1 Axes>"
            ],
            "image/png": "[encoded data removed]"
          },
          "metadata": {}
        }
      ],
      "source": [
        "import numpy as np\n",
        "import pandas as pd\n",
        "from sklearn.datasets import load_iris\n",
        "from sklearn.cluster import KMeans\n",
        "import matplotlib.pyplot as plt\n",
        "import warnings\n",
        "warnings.filterwarnings(\"ignore\")\n",
        "\n",
        "# Load the iris dataset\n",
        "iris = load_iris()\n",
        "\n",
        "# Create k values\n",
        "k_val = range(1, 11)\n",
        "\n",
        "# Calculate wcss for each k value\n",
        "wcss = []\n",
        "for k in k_val:\n",
        "    kmeans = KMeans(n_clusters=k)\n",
        "    kmeans.fit(iris.data)\n",
        "    wcss.append(kmeans.inertia_)\n",
        "\n",
        "# Plot wcss vs k\n",
        "plt.plot(k_val, wcss)\n",
        "plt.title('Iris Dataset - Elbow Method Chart')\n",
        "plt.ylabel('WCSS')\n",
        "plt.xlabel('Cluster Count (k)')\n",
        "plt.show()"
      ]
    },
    {
      "cell_type": "markdown",
      "source": [
        "The below section is for part 2 of Homework 5. If you run into issue with running this after running part 1, please reload runtime and run this part seperately"
      ],
      "metadata": {
        "id": "EZSRCrWsDYqJ"
      }
    },
    {
      "cell_type": "code",
      "source": [
        "import numpy as np\n",
        "import pandas as pd\n",
        "from sklearn.datasets import fetch_openml\n",
        "from sklearn.model_selection import train_test_split\n",
        "from sklearn.preprocessing import StandardScaler\n",
        "from sklearn.decomposition import PCA\n",
        "from sklearn.linear_model import LogisticRegression\n",
        "from sklearn.metrics import accuracy_score\n",
        "import time\n",
        "import warnings\n",
        "warnings.filterwarnings(\"ignore\")\n",
        "\n",
        "# Load the MNIST dataset\n",
        "mnist = fetch_openml('mnist_784')\n",
        "\n",
        "# Extract data\n",
        "X, y = mnist.data, mnist.target\n",
        "\n",
        "# Split into training and testing sets\n",
        "X_train, X_test, y_train, y_test = train_test_split(X, y, test_size=0.2, random_state=42)\n",
        "\n",
        "# Standardize the data\n",
        "scaler = StandardScaler()\n",
        "X_train_scaled = scaler.fit_transform(X_train)\n",
        "X_test_scaled = scaler.transform(X_test)\n",
        "\n",
        "\n",
        "# Apply PCA with varying numbers of components\n",
        "n_components_list = [10, 20, 50, 100, 200]\n",
        "\n",
        "for n_components in n_components_list:\n",
        "    pca = PCA(n_components=n_components)\n",
        "    X_train_pca = pca.fit_transform(X_train_scaled)\n",
        "    X_test_pca = pca.transform(X_test_scaled)\n",
        "\n",
        "    # Logistic regression without PCA\n",
        "    start_time = time.time()\n",
        "    logisticRegr = LogisticRegression(solver='lbfgs', max_iter=10000)\n",
        "    logisticRegr.fit(X_train_scaled, y_train)\n",
        "    y_pred_no_pca = logisticRegr.predict(X_test_scaled)\n",
        "    end_time = time.time()\n",
        "    time_no_pca = end_time - start_time\n",
        "    accuracy_no_pca = accuracy_score(y_test, y_pred_no_pca)\n",
        "\n",
        "    # Logistic regression with PCA\n",
        "    start_time = time.time()\n",
        "    logisticRegr = LogisticRegression(solver='lbfgs', max_iter=10000)\n",
        "    logisticRegr.fit(X_train_pca, y_train)\n",
        "    y_pred_pca = logisticRegr.predict(X_test_pca)\n",
        "    end_time = time.time()\n",
        "    time_pca = end_time - start_time\n",
        "    accuracy_pca = accuracy_score(y_test, y_pred_pca)\n",
        "\n",
        "    print(f\"Number of PCA components: {n_components}\")\n",
        "    print(f\"Time without PCA: {time_no_pca:.2f} seconds\")\n",
        "    print(f\"Accuracy without PCA: {accuracy_no_pca:.4f}\")\n",
        "    print(f\"Time with PCA: {time_pca:.2f} seconds\")\n",
        "    print(f\"Accuracy with PCA: {accuracy_pca:.4f}\")\n",
        "    print()"
      ],
      "metadata": {
        "colab": {
          "base_uri": "https://localhost:8080/"
        },
        "id": "n5ps_FOSDM5t",
        "outputId": "7668a055-99fb-4719-c345-0c5ab0175cf9"
      },
      "execution_count": 3,
      "outputs": [
        {
          "output_type": "stream",
          "name": "stdout",
          "text": [
            "Number of PCA components: 10\n",
            "Time without PCA: 257.76 seconds\n",
            "Accuracy without PCA: 0.9164\n",
            "Time with PCA: 7.14 seconds\n",
            "Accuracy with PCA: 0.8019\n",
            "\n",
            "Number of PCA components: 20\n",
            "Time without PCA: 258.23 seconds\n",
            "Accuracy without PCA: 0.9164\n",
            "Time with PCA: 9.11 seconds\n",
            "Accuracy with PCA: 0.8692\n",
            "\n",
            "Number of PCA components: 50\n",
            "Time without PCA: 256.67 seconds\n",
            "Accuracy without PCA: 0.9164\n",
            "Time with PCA: 12.56 seconds\n",
            "Accuracy with PCA: 0.9055\n",
            "\n",
            "Number of PCA components: 100\n",
            "Time without PCA: 251.54 seconds\n",
            "Accuracy without PCA: 0.9164\n",
            "Time with PCA: 30.15 seconds\n",
            "Accuracy with PCA: 0.9168\n",
            "\n",
            "Number of PCA components: 200\n",
            "Time without PCA: 261.06 seconds\n",
            "Accuracy without PCA: 0.9164\n",
            "Time with PCA: 63.21 seconds\n",
            "Accuracy with PCA: 0.9222\n",
            "\n"
          ]
        }
      ]
    }
  ]
}